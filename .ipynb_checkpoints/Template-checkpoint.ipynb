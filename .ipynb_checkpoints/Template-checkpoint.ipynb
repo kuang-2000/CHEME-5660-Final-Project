{
 "cells": [
  {
   "cell_type": "markdown",
   "metadata": {},
   "source": [
    "# Your Title Information Goes Here\n",
    "Fill me in"
   ]
  },
  {
   "cell_type": "markdown",
   "metadata": {
    "tags": []
   },
   "source": [
    "## Setup"
   ]
  },
  {
   "cell_type": "code",
   "execution_count": 2,
   "metadata": {
    "tags": []
   },
   "outputs": [
    {
     "name": "stderr",
     "output_type": "stream",
     "text": [
      "\u001b[32m\u001b[1m    Updating\u001b[22m\u001b[39m git-repo `https://github.com/varnerlab/VLQuantitativeFinancePackage.jl.git`\n",
      "\u001b[32m\u001b[1m   Resolving\u001b[22m\u001b[39m package versions...\n",
      "\u001b[32m\u001b[1m  No Changes\u001b[22m\u001b[39m to `C:\\Users\\Lillian K\\OneDrive\\Documents\\CHEME 5660\\5660-FINAL-PUBLIC-REPO\\CHEME-5660-Final-Project\\Project.toml`\n",
      "\u001b[32m\u001b[1m  No Changes\u001b[22m\u001b[39m to `C:\\Users\\Lillian K\\OneDrive\\Documents\\CHEME 5660\\5660-FINAL-PUBLIC-REPO\\CHEME-5660-Final-Project\\Manifest.toml`\n",
      "\u001b[32m\u001b[1m  Activating\u001b[22m\u001b[39m project at `C:\\Users\\Lillian K\\OneDrive\\Documents\\CHEME 5660\\5660-FINAL-PUBLIC-REPO\\CHEME-5660-Final-Project`\n",
      "\u001b[32m\u001b[1m  No Changes\u001b[22m\u001b[39m to `C:\\Users\\Lillian K\\OneDrive\\Documents\\CHEME 5660\\5660-FINAL-PUBLIC-REPO\\CHEME-5660-Final-Project\\Project.toml`\n",
      "\u001b[32m\u001b[1m  No Changes\u001b[22m\u001b[39m to `C:\\Users\\Lillian K\\OneDrive\\Documents\\CHEME 5660\\5660-FINAL-PUBLIC-REPO\\CHEME-5660-Final-Project\\Manifest.toml`\n",
      "\u001b[32m\u001b[1m    Updating\u001b[22m\u001b[39m registry at `C:\\Users\\Lillian K\\.julia\\registries\\General.toml`\n",
      "\u001b[32m\u001b[1m    Updating\u001b[22m\u001b[39m git-repo `https://github.com/varnerlab/VLQuantitativeFinancePackage.jl.git`\n",
      "\u001b[32m\u001b[1m  No Changes\u001b[22m\u001b[39m to `C:\\Users\\Lillian K\\OneDrive\\Documents\\CHEME 5660\\5660-FINAL-PUBLIC-REPO\\CHEME-5660-Final-Project\\Project.toml`\n",
      "\u001b[32m\u001b[1m  No Changes\u001b[22m\u001b[39m to `C:\\Users\\Lillian K\\OneDrive\\Documents\\CHEME 5660\\5660-FINAL-PUBLIC-REPO\\CHEME-5660-Final-Project\\Manifest.toml`\n"
     ]
    }
   ],
   "source": [
    "include(\"Include.jl\");"
   ]
  },
  {
   "cell_type": "markdown",
   "metadata": {
    "tags": []
   },
   "source": [
    "## Prerequisites: Load historical dataset, compute expected returns and get 2023 `SPY` data\n",
    "We gathered a daily open-high-low-close `dataset` for each firm in the [S&P500](https://en.wikipedia.org/wiki/S%26P_500) since `01-03-2018` until `12-01-2023`, along with data for a few exchange traded funds and volatility products during that time. "
   ]
  },
  {
   "cell_type": "code",
   "execution_count": 3,
   "metadata": {
    "tags": []
   },
   "outputs": [],
   "source": [
    "original_dataset = load(joinpath(_PATH_TO_DATA, \n",
    "        \"SP500-Daily-OHLC-1-3-2018-to-12-01-2023QQQ.jld2\")) |> x-> x[\"dataset\"];"
   ]
  },
  {
   "cell_type": "markdown",
   "metadata": {},
   "source": [
    "### Clean the data\n",
    "Not all of the tickers in our dataset have the maximum number of trading days for various reasons, e.g., acquistion or de-listing events. Let's collect only those tickers with the maximum number of trading days.\n",
    "\n",
    "* First, let's compute the number of records for a company that we know has a maximim value, e.g., `AAPL` and save that value in the `maximum_number_trading_days` variable:"
   ]
  },
  {
   "cell_type": "code",
   "execution_count": 4,
   "metadata": {
    "tags": []
   },
   "outputs": [],
   "source": [
    "maximum_number_trading_days = original_dataset[\"AAPL\"] |> nrow;"
   ]
  },
  {
   "cell_type": "markdown",
   "metadata": {},
   "source": [
    "Now, lets iterate through our data and collect only those tickers that have `maximum_number_trading_days` records. Save that data in the `dataset::Dict{String,DataFrame}` variable:"
   ]
  },
  {
   "cell_type": "code",
   "execution_count": 5,
   "metadata": {
    "tags": []
   },
   "outputs": [],
   "source": [
    "dataset = Dict{String,DataFrame}();\n",
    "for (ticker,data) ∈ original_dataset\n",
    "    if (nrow(data) == maximum_number_trading_days)\n",
    "        dataset[ticker] = data;\n",
    "    end\n",
    "end\n",
    "dataset;"
   ]
  },
  {
   "cell_type": "markdown",
   "metadata": {},
   "source": [
    "Let's get a list of firms that we have in cleaned up `dataset`, and save it in the `all_tickers` array:"
   ]
  },
  {
   "cell_type": "code",
   "execution_count": 6,
   "metadata": {
    "tags": []
   },
   "outputs": [],
   "source": [
    "all_tickers = keys(dataset) |> collect |> sort;\n",
    "K = length(all_tickers);"
   ]
  },
  {
   "cell_type": "markdown",
   "metadata": {},
   "source": [
    "### Get the 2023 `SPY` data"
   ]
  },
  {
   "cell_type": "code",
   "execution_count": 7,
   "metadata": {
    "tags": []
   },
   "outputs": [],
   "source": [
    "startdate = Date(2023,01,03);\n",
    "SPY_dataset = dataset[\"SPY\"];\n",
    "SPY_df = filter(:timestamp => x-> x >= startdate, SPY_dataset);\n"
   ]
  },
  {
   "cell_type": "markdown",
   "metadata": {},
   "source": [
    "### Compute the expected return for all firms in the dataset\n",
    "The expected return $\\mathbb{E}(r_{i})$ and covariance matrix $\\Sigma$ will be used in our calculations, so we'll provide values for both of these items for the entire data set (all `N = 459` tickers), and then you can pick out which tickers you are interested in. \n",
    "\n",
    "* First, we compute the expected (annualized) log return by passing the `dataset` and the entire list of firms we have in the dataset (held in the $N\\times{1}$ `all_array` array) to the `log_return_matrix(...)` method. The result is stored in the `all_firms_return_matrix` variable, a $T-1\\times{N}$ array of log return values. Each row of `all_firms_return_matrix` corresponds to a time-value, while each column corresponds to a firm:"
   ]
  },
  {
   "cell_type": "code",
   "execution_count": 8,
   "metadata": {
    "tags": []
   },
   "outputs": [],
   "source": [
    "all_firms_return_matrix = log_return_matrix(dataset, all_tickers, \n",
    "    Δt = (1.0/252.0), risk_free_rate = 0.0);"
   ]
  },
  {
   "cell_type": "markdown",
   "metadata": {},
   "source": [
    "## Your project starts here ...."
   ]
  },
  {
   "cell_type": "code",
   "execution_count": 9,
   "metadata": {},
   "outputs": [],
   "source": [
    "risk_free_rate = 0.05;"
   ]
  },
  {
   "cell_type": "code",
   "execution_count": 10,
   "metadata": {
    "tags": []
   },
   "outputs": [],
   "source": [
    "all_tickers = keys(dataset) |> collect |> sort;"
   ]
  },
  {
   "cell_type": "markdown",
   "metadata": {},
   "source": [
    "## Disclaimer and Risks\n",
    "__This content is offered solely for training and  informational purposes__. No offer or solicitation to buy or sell securities or derivative products, or any investment or trading advice or strategy,  is made, given, or endorsed by the teaching team. \n",
    "\n",
    "__Trading involves risk__. Carefully review your financial situation before investing in securities, futures contracts, options, or commodity interests. Past performance, whether actual or indicated by historical tests of strategies, is no guarantee of future performance or success. Trading is generally inappropriate for someone with limited resources, investment or trading experience, or a low-risk tolerance.  Only risk capital that is not required for living expenses.\n",
    "\n",
    "__You are fully responsible for any investment or trading decisions you make__. Such decisions should be based solely on your evaluation of your financial circumstances, investment or trading objectives, risk tolerance, and liquidity needs."
   ]
  },
  {
   "cell_type": "code",
   "execution_count": 11,
   "metadata": {},
   "outputs": [],
   "source": [
    "all_firms_excess_return_matrix = log_return_matrix(dataset, all_tickers, \n",
    "    Δt = (1.0/252.0), risk_free_rate = risk_free_rate);"
   ]
  },
  {
   "cell_type": "code",
   "execution_count": 12,
   "metadata": {},
   "outputs": [],
   "source": [
    "μ = mean(all_firms_excess_return_matrix, dims=1) |> vec;"
   ]
  },
  {
   "cell_type": "code",
   "execution_count": 15,
   "metadata": {},
   "outputs": [
    {
     "ename": "LoadError",
     "evalue": "KeyError: key \"sim\" not found",
     "output_type": "error",
     "traceback": [
      "KeyError: key \"sim\" not found",
      "",
      "Stacktrace:",
      " [1] getindex",
      "   @ .\\dict.jl:484 [inlined]",
      " [2] #13",
      "   @ .\\In[15]:1 [inlined]",
      " [3] |>(x::Dict{String, Any}, f::var\"#13#14\")",
      "   @ Base .\\operators.jl:907",
      " [4] top-level scope",
      "   @ In[15]:1"
     ]
    }
   ],
   "source": [
    "sims = load(joinpath(_PATH_TO_DATA, \"SP500-Daily-OHLC-1-3-2018-to-12-01-2023QQQ.jld2\")) |> x->x[\"sim\"];"
   ]
  },
  {
   "cell_type": "code",
   "execution_count": 16,
   "metadata": {},
   "outputs": [
    {
     "data": {
      "text/plain": [
       "0.039473529456023046"
      ]
     },
     "execution_count": 16,
     "metadata": {},
     "output_type": "execute_result"
    }
   ],
   "source": [
    "index_SPY = findfirst(x->x==\"SPY\", all_tickers);\n",
    "R_SPY = μ[index_SPY]"
   ]
  },
  {
   "cell_type": "code",
   "execution_count": 30,
   "metadata": {},
   "outputs": [
    {
     "ename": "LoadError",
     "evalue": "KeyError: key \"QQQ\" not found",
     "output_type": "error",
     "traceback": [
      "KeyError: key \"QQQ\" not found",
      "",
      "Stacktrace:",
      " [1] getindex(h::Dict{String, MySingleIndexModel}, key::String)",
      "   @ Base .\\dict.jl:484",
      " [2] top-level scope",
      "   @ .\\In[30]:5"
     ]
    }
   ],
   "source": [
    "μ_sim = Array{Float64,1}();\n",
    "for i ∈ eachindex(all_tickers)\n",
    "    \n",
    "    myticker = all_tickers[i];\n",
    "    sim = sims[myticker];\n",
    "    \n",
    "    αᵢ = sim.α\n",
    "    βᵢ = sim.β\n",
    "    Rᵢ = αᵢ+βᵢ*R_SPY\n",
    "    \n",
    "    push!(μ_sim,Rᵢ)\n",
    "end"
   ]
  },
  {
   "cell_type": "code",
   "execution_count": 14,
   "metadata": {},
   "outputs": [],
   "source": [
    "risk_free_rate = 0.05;"
   ]
  },
  {
   "cell_type": "code",
   "execution_count": 15,
   "metadata": {},
   "outputs": [],
   "source": [
    "all_firms_excess_return_matrix = log_return_matrix(dataset, all_tickers, \n",
    "    Δt = (1.0/252.0), risk_free_rate = risk_free_rate);"
   ]
  },
  {
   "cell_type": "code",
   "execution_count": 16,
   "metadata": {},
   "outputs": [],
   "source": [
    "μ = mean(all_firms_excess_return_matrix, dims=1) |> vec;"
   ]
  },
  {
   "cell_type": "code",
   "execution_count": 17,
   "metadata": {},
   "outputs": [],
   "source": [
    "sims = load(joinpath(_PATH_TO_DATA, \"SIM-SP500-01-03-18-to-10-31-23QQQ.jld2\")) |> x->x[\"sim\"];"
   ]
  },
  {
   "cell_type": "code",
   "execution_count": 18,
   "metadata": {},
   "outputs": [
    {
     "data": {
      "text/plain": [
       "0.039473529456023046"
      ]
     },
     "execution_count": 18,
     "metadata": {},
     "output_type": "execute_result"
    }
   ],
   "source": [
    "index_SPY = findfirst(x->x==\"SPY\", all_tickers);\n",
    "R_SPY = μ[index_SPY]"
   ]
  },
  {
   "cell_type": "code",
   "execution_count": 19,
   "metadata": {},
   "outputs": [
    {
     "ename": "LoadError",
     "evalue": "KeyError: key \"QQQ\" not found",
     "output_type": "error",
     "traceback": [
      "KeyError: key \"QQQ\" not found",
      "",
      "Stacktrace:",
      " [1] getindex(h::Dict{String, MySingleIndexModel}, key::String)",
      "   @ Base .\\dict.jl:484",
      " [2] top-level scope",
      "   @ .\\In[19]:5"
     ]
    }
   ],
   "source": [
    "μ_sim = Array{Float64,1}();\n",
    "for i ∈ eachindex(all_tickers)\n",
    "    \n",
    "    myticker = all_tickers[i];\n",
    "    sim = sims[myticker];\n",
    "    \n",
    "    αᵢ = sim.α\n",
    "    βᵢ = sim.β\n",
    "    Rᵢ = αᵢ+βᵢ*R_SPY\n",
    "    \n",
    "    push!(μ_sim,Rᵢ)\n",
    "end"
   ]
  },
  {
   "cell_type": "code",
   "execution_count": 20,
   "metadata": {},
   "outputs": [
    {
     "ename": "LoadError",
     "evalue": "UndefVarError: `σₘ` not defined",
     "output_type": "error",
     "traceback": [
      "UndefVarError: `σₘ` not defined",
      "",
      "Stacktrace:",
      " [1] top-level scope",
      "   @ .\\In[20]:15"
     ]
    }
   ],
   "source": [
    "Σ_tmp = Array{Float64,2}(undef, length(μ), length(μ));\n",
    "for i ∈ eachindex(all_tickers)\n",
    "    outer_ticker = all_tickers[i];\n",
    "    sim_outer = sims[outer_ticker];\n",
    "    \n",
    "    for j ∈ eachindex(all_tickers)\n",
    "        \n",
    "        inner_ticker = all_tickers[j];\n",
    "        sim_inner = sims[inner_ticker];\n",
    "        \n",
    "        if (i == j)\n",
    "            βᵢ = sim_outer.β\n",
    "            ϵᵢ = sim_outer.ϵ\n",
    "            σ_ϵᵢ = params(ϵᵢ)[2];\n",
    "            Σ_tmp[i,j] = ((βᵢ)^2)*((σₘ)^2)+(σ_ϵᵢ)^2\n",
    "        else\n",
    "            βᵢ = sim_outer.β\n",
    "            βⱼ = sim_inner.β\n",
    "            Σ_tmp[i,j] = βᵢ*βⱼ*(σₘ)^2\n",
    "        end\n",
    "    end\n",
    "end\n",
    "Σ_sim  = Σ_tmp |> x-> x*(1/252);"
   ]
  },
  {
   "cell_type": "code",
   "execution_count": 21,
   "metadata": {},
   "outputs": [],
   "source": [
    "\n",
    "my_list_of_tickers = [\"AAPL\", \"INTC\", \"MSFT\", \"MU\", \"AMD\", \"GS\", \"BAC\", \"WFC\", \"C\", \"F\"];\n",
    "my_list_of_firm_ids = Array{Int64,1}();\n",
    "for ticker ∈ my_list_of_tickers\n",
    "    firm_index = findfirst(x->x==ticker, all_tickers);    \n",
    "    push!(my_list_of_firm_ids, firm_index)\n",
    "end"
   ]
  },
  {
   "cell_type": "code",
   "execution_count": 22,
   "metadata": {},
   "outputs": [
    {
     "ename": "LoadError",
     "evalue": "BoundsError: attempt to access 348-element Vector{Float64} at index [441]",
     "output_type": "error",
     "traceback": [
      "BoundsError: attempt to access 348-element Vector{Float64} at index [441]",
      "",
      "Stacktrace:",
      " [1] getindex(A::Vector{Float64}, i1::Int64)",
      "   @ Base .\\essentials.jl:13",
      " [2] top-level scope",
      "   @ .\\In[22]:4"
     ]
    }
   ],
   "source": [
    "# --- DO NOT CHANGE THIS BLOCK ----------------------------------------- #\n",
    "μ̂_sim = Array{Float64,1}();\n",
    "for firm_index ∈ my_list_of_firm_ids\n",
    "    push!(μ̂_sim, μ_sim[firm_index])\n",
    "end\n",
    "# ---------------------------------------------------------------------- #"
   ]
  },
  {
   "cell_type": "code",
   "execution_count": 23,
   "metadata": {},
   "outputs": [
    {
     "ename": "LoadError",
     "evalue": "UndefVarError: `Σ_sim` not defined",
     "output_type": "error",
     "traceback": [
      "UndefVarError: `Σ_sim` not defined",
      "",
      "Stacktrace:",
      " [1] top-level scope",
      "   @ .\\In[23]:8"
     ]
    }
   ],
   "source": [
    "# --- DO NOT CHANGE THIS BLOCK FOR SIM  -------------------------------- #\n",
    "my_number_of_selected_firms = length(my_list_of_firm_ids)\n",
    "Σ̂_sim = Array{Float64,2}(undef, my_number_of_selected_firms, my_number_of_selected_firms);\n",
    "for i ∈ eachindex(my_list_of_firm_ids)\n",
    "    row_firm_index = my_list_of_firm_ids[i]\n",
    "    for j ∈ eachindex(my_list_of_firm_ids)\n",
    "        col_firm_index = my_list_of_firm_ids[j]\n",
    "        Σ̂_sim[i,j] = Σ_sim[row_firm_index, col_firm_index]\n",
    "    end\n",
    "end\n",
    "# ---------------------------------------------------------------------- #"
   ]
  },
  {
   "cell_type": "code",
   "execution_count": null,
   "metadata": {},
   "outputs": [],
   "source": [
    "my_data = Dict{String,Any}();\n",
    "my_data[\"expected_excess_return\"] = μ̂_sim;\n",
    "my_data[\"covariance\"] = Σ̂_sim;\n",
    "save(joinpath(_PATH_TO_DATA,\"MyChoiceSet-Example.jld2\"), Dict(\"dataset\" => my_data));"
   ]
  },
  {
   "cell_type": "code",
   "execution_count": null,
   "metadata": {},
   "outputs": [],
   "source": [
    "number_of_firms = length(my_list_of_tickers);\n",
    "wₒ = zeros(number_of_firms);\n",
    "wₒ[1] = 1.0;\n",
    "bounds = zeros(number_of_firms,2);\n",
    "bounds[:,2] .= 1.0;\n",
    "number_of_points = 40;"
   ]
  },
  {
   "cell_type": "code",
   "execution_count": null,
   "metadata": {},
   "outputs": [],
   "source": [
    "problem_risk_sim = build(MyMarkowitzRiskyAssetOnlyPortfiolioChoiceProblem, (\n",
    "    Σ = Σ̂_sim,\n",
    "    μ = μ̂_sim,\n",
    "    bounds = bounds,\n",
    "    initial = wₒ,\n",
    "    R = 0.0\n",
    "));"
   ]
  },
  {
   "cell_type": "code",
   "execution_count": null,
   "metadata": {},
   "outputs": [],
   "source": [
    "minimum_desired_reward_array = range(0.0, stop = 0.5 - risk_free_rate, length = number_of_points) |> collect;"
   ]
  },
  {
   "cell_type": "code",
   "execution_count": null,
   "metadata": {},
   "outputs": [],
   "source": [
    "efficient_frontier_sim = Dict{Float64,Float64}();\n",
    "portfolio_df = DataFrame();\n",
    "for i ∈ eachindex(minimum_desired_reward_array)\n",
    "    \n",
    "    # update the problem object -\n",
    "    problem_risk_sim.R = minimum_desired_reward_array[i];\n",
    "    \n",
    "    # compute -\n",
    "    solution_sim = solve(problem_risk_sim)\n",
    "\n",
    "    # check: did this converge?\n",
    "    status_flag = solution_sim[\"status\"];    \n",
    "    if (status_flag == MathOptInterface.LOCALLY_SOLVED)\n",
    "        key = sqrt(solution_sim[\"objective_value\"]);\n",
    "        value = solution_sim[\"reward\"];\n",
    "        efficient_frontier_sim[key] = value;\n",
    "        \n",
    "        w_opt = solution_sim[\"argmax\"];\n",
    "        \n",
    "        # add data to portfolio_df -\n",
    "        row_df = (\n",
    "            expected_excess_return = value,\n",
    "            risk = key,\n",
    "            tickers = my_list_of_tickers,\n",
    "            w = w_opt,\n",
    "            risk_free_rate = risk_free_rate\n",
    "        )\n",
    "        push!(portfolio_df,row_df);\n",
    "    end\n",
    "end\n",
    "efficient_frontier_sim"
   ]
  },
  {
   "cell_type": "code",
   "execution_count": null,
   "metadata": {},
   "outputs": [],
   "source": [
    "# single index model -\n",
    "plot(efficient_frontier_sim, lw=4, xlabel=\"Portfolio Risk (sqrt)\", \n",
    "    ylabel=\"Portfolio Excess Return\", fontsize=18, label=\"SIM\", c=:red, \n",
    "    xlim=(0.0, 1.2*maximum(efficient_frontier_sim).first))\n",
    "scatter!(efficient_frontier_sim, label=\"\", c=:white, mec=:red, ms=3)"
   ]
  },
  {
   "cell_type": "code",
   "execution_count": null,
   "metadata": {},
   "outputs": [],
   "source": [
    "filepath = joinpath(_PATH_TO_DATA, \"EfficientFrontier-Example.jld2\");\n",
    "save(filepath, Dict(\"dataset\"=>portfolio_df))"
   ]
  },
  {
   "cell_type": "code",
   "execution_count": null,
   "metadata": {},
   "outputs": [],
   "source": [
    "portfolio_df"
   ]
  },
  {
   "cell_type": "code",
   "execution_count": null,
   "metadata": {},
   "outputs": [],
   "source": [
    "Wₒ = 24000000;\n",
    "number_of_trading_days = 3650;\n",
    "offset = 1;"
   ]
  },
  {
   "cell_type": "code",
   "execution_count": null,
   "metadata": {},
   "outputs": [],
   "source": [
    "P = rand(efficient_frontier_sim);\n",
    "\n",
    "# σₚ = 0.24098137679395285;\n",
    "# μₚ = efficient_frontier_sim[σₚ];\n",
    "σₚ = P.first\n",
    "μₚ = P.second\n"
   ]
  },
  {
   "cell_type": "code",
   "execution_count": null,
   "metadata": {},
   "outputs": [],
   "source": [
    "keys(efficient_frontier_sim)"
   ]
  },
  {
   "cell_type": "code",
   "execution_count": null,
   "metadata": {},
   "outputs": [],
   "source": [
    "wealth_array = Array{Float64,2}(undef, number_of_trading_days, 8);\n",
    "for i ∈ 1:number_of_trading_days\n",
    "    Δt = (i-1)*(1/252);\n",
    "    \n",
    "    wealth_array[i,1] = Δt\n",
    "    wealth_array[i,2] = Wₒ*exp((μₚ + risk_free_rate)*Δt);\n",
    "    wealth_array[i,3] = Wₒ*exp((μₚ - σₚ + risk_free_rate)*Δt);\n",
    "    wealth_array[i,4] = Wₒ*exp((μₚ + σₚ + risk_free_rate)*Δt);\n",
    "    wealth_array[i,5] = Wₒ*exp((μₚ - 1.96*σₚ + risk_free_rate)*Δt);\n",
    "    wealth_array[i,6] = Wₒ*exp((μₚ + 1.96*σₚ + risk_free_rate)*Δt);\n",
    "    wealth_array[i,7] = Wₒ*exp((μₚ - 2.576*σₚ + risk_free_rate)*Δt);\n",
    "    wealth_array[i,8] = Wₒ*exp((μₚ + 2.576*σₚ + risk_free_rate)*Δt);\n",
    "end"
   ]
  },
  {
   "cell_type": "code",
   "execution_count": null,
   "metadata": {},
   "outputs": [],
   "source": [
    "wealth_array"
   ]
  },
  {
   "cell_type": "code",
   "execution_count": null,
   "metadata": {},
   "outputs": [],
   "source": [
    "p = plot();\n",
    "plot!(wealth_array[:,1],wealth_array[:,3],lw=1,label=\"\",c=:gray69)\n",
    "plot!(wealth_array[:,1],wealth_array[:,4],lw=1,label=\"\", c=:gray69)\n",
    "plot!(wealth_array[:,1],wealth_array[:,5],lw=1,label=\"\", c=:gray69)\n",
    "plot!(wealth_array[:,1],wealth_array[:,6],lw=1,label=\"\", c=:gray69)\n",
    "plot!(wealth_array[:,1],wealth_array[:,7],lw=1,label=\"\", c=:gray69)\n",
    "plot!(wealth_array[:,1],wealth_array[:,8],lw=1,label=\"\", c=:gray69)\n",
    "\n",
    "L68 = wealth_array[:,3];\n",
    "U68 = wealth_array[:,4];\n",
    "plot!(wealth_array[:,1], L68, fillrange = U68, fillalpha = 0.25, c = :dodgerblue, label = \"68% CI\")\n",
    "\n",
    "L95 = wealth_array[:,5];\n",
    "U95 = wealth_array[:,6];\n",
    "plot!(wealth_array[:,1], L95, fillrange = U95, fillalpha = 0.25, c = :deepskyblue, label = \"95% CI\")\n",
    "\n",
    "L99 = wealth_array[:,7];\n",
    "U99 = wealth_array[:,8];\n",
    "plot!(wealth_array[:,1], L99, fillrange = U99, fillalpha = 0.25, c = :lightskyblue, label = \"99% CI\")\n",
    "\n",
    "plot!(wealth_array[:,1],wealth_array[:,2],lw=3,label=\"Expected value\", c=:red)\n",
    "xlabel!(\"Time (years)\", fontsize=18)\n",
    "ylabel!(\"Portfolio Wealth (USD)\", fontsize=18)"
   ]
  },
  {
   "cell_type": "code",
   "execution_count": null,
   "metadata": {},
   "outputs": [],
   "source": [
    "WFP = wealth_array[end,2] |> x-> round(x,digits=2);\n",
    "WFP_LB = wealth_array[end,3] |> x-> round(x,digits=2)\n",
    "WFP_UB = wealth_array[end,4] |> x-> round(x,digits=2)\n",
    "println(\"The selected portfolio should be worth (L,E,U) = ($(WFP_LB), $(WFP), $(WFP_UB)) USD\")"
   ]
  },
  {
   "cell_type": "code",
   "execution_count": null,
   "metadata": {},
   "outputs": [],
   "source": [
    "Δt = (number_of_trading_days/252);\n",
    "NPV_P = -Wₒ + (1/𝒟(risk_free_rate, Δt))*WFP\n",
    "println(\"The expected NPV for this portfolio is NPV = $(NPV_P)\")"
   ]
  },
  {
   "cell_type": "code",
   "execution_count": null,
   "metadata": {},
   "outputs": [],
   "source": [
    "σ̄ₘ = σₘ*sqrt(1/252) # correct for annualized std dev\n",
    "wealth_array_SPY = Array{Float64,2}(undef, number_of_trading_days, 8);\n",
    "for i ∈ 1:number_of_trading_days\n",
    "    Δt = (i-1)*(1/252);\n",
    "    \n",
    "    wealth_array_SPY[i,1] = Δt\n",
    "    wealth_array_SPY[i,2] = Wₒ*exp((R_SPY + risk_free_rate)*Δt);\n",
    "    wealth_array_SPY[i,3] = Wₒ*exp((R_SPY - σ̄ₘ + risk_free_rate)*Δt);\n",
    "    wealth_array_SPY[i,4] = Wₒ*exp((R_SPY + σ̄ₘ + risk_free_rate)*Δt);\n",
    "    wealth_array_SPY[i,5] = Wₒ*exp((R_SPY - 1.96*σ̄ₘ + risk_free_rate)*Δt);\n",
    "    wealth_array_SPY[i,6] = Wₒ*exp((R_SPY + 1.96*σ̄ₘ + risk_free_rate)*Δt);\n",
    "    wealth_array_SPY[i,7] = Wₒ*exp((R_SPY - 2.576*σ̄ₘ + risk_free_rate)*Δt);\n",
    "    wealth_array_SPY[i,8] = Wₒ*exp((R_SPY + 2.576*σ̄ₘ + risk_free_rate)*Δt);\n",
    "end"
   ]
  },
  {
   "cell_type": "code",
   "execution_count": null,
   "metadata": {},
   "outputs": [],
   "source": [
    "SPY_actual = Array{Float64,2}(undef, number_of_trading_days, 2);\n",
    "SPY_data = dataset[\"SPY\"];\n",
    "SPY_return = Array{Float64,1}(undef, number_of_trading_days);\n",
    "for j ∈ 2:number_of_trading_days+1\n",
    "    date_index = (j - 1) + offset;\n",
    "    S₁ = SPY_data[(date_index - 1), :volume_weighted_average_price];\n",
    "    S₂ = SPY_data[date_index, :volume_weighted_average_price];\n",
    "    SPY_return[j-1] = log(S₂/S₁);\n",
    "end\n",
    "\n",
    "Wᵢ = Wₒ\n",
    "SPY_actual[1,2] = Wₒ\n",
    "for i ∈ 2:(number_of_trading_days)\n",
    "    Δt = (i-1)*(1/252);\n",
    "    \n",
    "    \n",
    "    SPY_actual[i,1] = Δt\n",
    "    SPY_actual[i,2] = Wᵢ*exp(SPY_return[i]);\n",
    "    Wᵢ = SPY_actual[i,2];\n",
    "end"
   ]
  },
  {
   "cell_type": "code",
   "execution_count": null,
   "metadata": {},
   "outputs": [],
   "source": [
    "p = plot();\n",
    "plot!(wealth_array_SPY[:,1],wealth_array_SPY[:,3],lw=1,label=\"\",c=:gray69)\n",
    "plot!(wealth_array_SPY[:,1],wealth_array_SPY[:,4],lw=1,label=\"\", c=:gray69)\n",
    "plot!(wealth_array_SPY[:,1],wealth_array_SPY[:,5],lw=1,label=\"\", c=:gray69)\n",
    "plot!(wealth_array_SPY[:,1],wealth_array_SPY[:,6],lw=1,label=\"\", c=:gray69)\n",
    "plot!(wealth_array_SPY[:,1],wealth_array_SPY[:,7],lw=1,label=\"\", c=:gray69)\n",
    "plot!(wealth_array_SPY[:,1],wealth_array_SPY[:,8],lw=1,label=\"\", c=:gray69)\n",
    "\n",
    "L68 = wealth_array_SPY[:,3];\n",
    "U68 = wealth_array_SPY[:,4];\n",
    "plot!(wealth_array_SPY[:,1], L68, fillrange = U68, fillalpha = 0.25, c = :dodgerblue, label = \"68% CI\")\n",
    "\n",
    "L95 = wealth_array_SPY[:,5];\n",
    "U95 = wealth_array_SPY[:,6];\n",
    "plot!(wealth_array_SPY[:,1], L95, fillrange = U95, fillalpha = 0.25, c = :deepskyblue, label = \"95% CI\")\n",
    "\n",
    "L99 = wealth_array_SPY[:,7];\n",
    "U99 = wealth_array_SPY[:,8];\n",
    "plot!(wealth_array_SPY[:,1], L99, fillrange = U99, fillalpha = 0.25, c = :lightskyblue, label = \"99% CI\")\n",
    "\n",
    "plot!(wealth_array_SPY[:,1],wealth_array_SPY[:,2],lw=3,label=\"Expected value\", c=:red)\n",
    "plot!(SPY_actual[:,1], SPY_actual[:,2],lw=3,c=:black,ls=:dash, label=\"Actual SPY\")\n",
    "\n",
    "xlabel!(\"Time (years)\", fontsize=18)\n",
    "ylabel!(\"Portfolio SPY only Wealth (USD)\", fontsize=18)"
   ]
  },
  {
   "cell_type": "code",
   "execution_count": null,
   "metadata": {},
   "outputs": [],
   "source": [
    "Δt = (number_of_trading_days/252);\n",
    "NPV_SPY = -Wₒ + (1/𝒟(risk_free_rate, Δt))*WFSPY\n",
    "println(\"The expected NPV for this portfolio is NPV = $(NPV_SPY)\")"
   ]
  }
 ],
 "metadata": {
  "kernelspec": {
   "display_name": "Julia 1.9.2",
   "language": "julia",
   "name": "julia-1.9"
  },
  "language_info": {
   "file_extension": ".jl",
   "mimetype": "application/julia",
   "name": "julia",
   "version": "1.9.2"
  }
 },
 "nbformat": 4,
 "nbformat_minor": 5
}
